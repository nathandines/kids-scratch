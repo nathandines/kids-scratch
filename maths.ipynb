{
 "cells": [
  {
   "cell_type": "markdown",
   "metadata": {},
   "source": [
    "# Maths"
   ]
  },
  {
   "cell_type": "markdown",
   "metadata": {},
   "source": [
    "## Setup"
   ]
  },
  {
   "cell_type": "code",
   "execution_count": null,
   "metadata": {},
   "outputs": [],
   "source": [
    "import itertools\n",
    "from time import sleep\n",
    "from typing import Generator\n",
    "from enum import StrEnum, auto"
   ]
  },
  {
   "cell_type": "code",
   "execution_count": null,
   "metadata": {},
   "outputs": [],
   "source": [
    "class Operation(StrEnum):\n",
    "    MULTIPLICATION: str = auto()\n",
    "    DIVISION: str = auto()\n",
    "\n",
    "def operate_to_limit(number: int, limit: int, operation: Operation) -> Generator[tuple[int,int], None, None]:\n",
    "    for i in itertools.count(start=1):\n",
    "        if operation == Operation.MULTIPLICATION:\n",
    "            result = number * i\n",
    "            if result > limit:\n",
    "                return\n",
    "        elif operation == Operation.DIVISION:\n",
    "            result = number / i\n",
    "            if result < limit:\n",
    "                return\n",
    "\n",
    "        yield (i, result)"
   ]
  },
  {
   "cell_type": "markdown",
   "metadata": {},
   "source": [
    "## Add Up to Limit"
   ]
  },
  {
   "cell_type": "code",
   "execution_count": null,
   "metadata": {},
   "outputs": [],
   "source": [
    "starting_number = 10\n",
    "limit = 120\n",
    "\n",
    "for i in range(1,limit-starting_number+1):\n",
    "    result = starting_number + i\n",
    "    print(f\"{starting_number} + {i} = {result}\")\n",
    "    sleep(0.5)"
   ]
  },
  {
   "cell_type": "markdown",
   "metadata": {},
   "source": [
    "## Subtract Down to Limit"
   ]
  },
  {
   "cell_type": "code",
   "execution_count": null,
   "metadata": {},
   "outputs": [],
   "source": [
    "starting_number = 120\n",
    "limit = 110\n",
    "\n",
    "for i in range(1,starting_number-limit+1):\n",
    "    result = starting_number - i\n",
    "    print(f\"{starting_number} - {i} = {result}\")\n",
    "    sleep(0.5)"
   ]
  },
  {
   "cell_type": "markdown",
   "metadata": {},
   "source": [
    "## Multiply Up to Limit"
   ]
  },
  {
   "cell_type": "code",
   "execution_count": null,
   "metadata": {},
   "outputs": [],
   "source": [
    "number_to_multiply = 10\n",
    "limit = 120\n",
    "\n",
    "for (i, r) in operate_to_limit(number_to_multiply, limit, Operation.MULTIPLICATION):\n",
    "    print(f\"{number_to_multiply} x {i} = {r}\")\n",
    "    sleep(0.5)"
   ]
  },
  {
   "cell_type": "markdown",
   "metadata": {},
   "source": [
    "## Multiply a Number of Times"
   ]
  },
  {
   "cell_type": "code",
   "execution_count": null,
   "metadata": {},
   "outputs": [],
   "source": [
    "number_to_multiply = 2\n",
    "count = 10\n",
    "\n",
    "for i in range(1,count+1):\n",
    "    r = number_to_multiply * i\n",
    "    print(f\"{number_to_multiply} x {i} = {r}\")\n",
    "    sleep(0.5)"
   ]
  },
  {
   "cell_type": "markdown",
   "metadata": {},
   "source": [
    "## Divide Down to Limit"
   ]
  },
  {
   "cell_type": "code",
   "execution_count": null,
   "metadata": {},
   "outputs": [],
   "source": [
    "number_to_divide = 100\n",
    "limit = 10\n",
    "\n",
    "for (i, r) in operate_to_limit(number_to_divide, limit, Operation.DIVISION):\n",
    "    print(f\"{number_to_divide} ÷ {i} = {r}\")\n",
    "    sleep(0.5)"
   ]
  },
  {
   "cell_type": "markdown",
   "metadata": {},
   "source": [
    "## Divide a Number of Times"
   ]
  },
  {
   "cell_type": "code",
   "execution_count": null,
   "metadata": {},
   "outputs": [],
   "source": [
    "number_to_divide = 20\n",
    "count = 20\n",
    "\n",
    "for i in range(1,count+1):\n",
    "    r = number_to_divide / i\n",
    "    print(f\"{number_to_divide} ÷ {i} = {r}\")\n",
    "    sleep(0.5)"
   ]
  }
 ],
 "metadata": {
  "kernelspec": {
   "display_name": "kids-scratch",
   "language": "python",
   "name": "python3"
  },
  "language_info": {
   "codemirror_mode": {
    "name": "ipython",
    "version": 3
   },
   "file_extension": ".py",
   "mimetype": "text/x-python",
   "name": "python",
   "nbconvert_exporter": "python",
   "pygments_lexer": "ipython3",
   "version": "3.11.7"
  }
 },
 "nbformat": 4,
 "nbformat_minor": 2
}

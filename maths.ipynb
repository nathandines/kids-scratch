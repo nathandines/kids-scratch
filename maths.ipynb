{
 "cells": [
  {
   "cell_type": "markdown",
   "metadata": {},
   "source": [
    "# Maths"
   ]
  },
  {
   "cell_type": "markdown",
   "metadata": {},
   "source": [
    "## Setup"
   ]
  },
  {
   "cell_type": "code",
   "execution_count": null,
   "metadata": {},
   "outputs": [],
   "source": [
    "import itertools\n",
    "from time import sleep\n",
    "from typing import Generator\n",
    "from enum import StrEnum, auto"
   ]
  },
  {
   "cell_type": "code",
   "execution_count": 76,
   "metadata": {},
   "outputs": [],
   "source": [
    "class Operation(StrEnum):\n",
    "    MULTIPLICATION: str = auto()\n",
    "    DIVISION: str = auto()\n",
    "\n",
    "def operate_to_limit(number: int, limit: int, operation: Operation) -> Generator[tuple[int,int], None, None]:\n",
    "    for i in itertools.count(start=1):\n",
    "        if operation == Operation.MULTIPLICATION:\n",
    "            result = number * i\n",
    "            if result > limit:\n",
    "                return\n",
    "        elif operation == Operation.DIVISION:\n",
    "            result = number / i\n",
    "            if result < limit:\n",
    "                return\n",
    "\n",
    "        yield (i, result)"
   ]
  },
  {
   "cell_type": "markdown",
   "metadata": {},
   "source": [
    "## Add Up to Limit"
   ]
  },
  {
   "cell_type": "code",
   "execution_count": 78,
   "metadata": {},
   "outputs": [
    {
     "name": "stdout",
     "output_type": "stream",
     "text": [
      "10 + 1 = 11\n",
      "10 + 2 = 12\n",
      "10 + 3 = 13\n",
      "10 + 4 = 14\n",
      "10 + 5 = 15\n",
      "10 + 6 = 16\n",
      "10 + 7 = 17\n",
      "10 + 8 = 18\n",
      "10 + 9 = 19\n",
      "10 + 10 = 20\n",
      "10 + 11 = 21\n"
     ]
    },
    {
     "ename": "KeyboardInterrupt",
     "evalue": "",
     "output_type": "error",
     "traceback": [
      "\u001b[0;31m---------------------------------------------------------------------------\u001b[0m",
      "\u001b[0;31mKeyboardInterrupt\u001b[0m                         Traceback (most recent call last)",
      "Cell \u001b[0;32mIn[78], line 7\u001b[0m\n\u001b[1;32m      5\u001b[0m result \u001b[38;5;241m=\u001b[39m starting_number \u001b[38;5;241m+\u001b[39m i\n\u001b[1;32m      6\u001b[0m \u001b[38;5;28mprint\u001b[39m(\u001b[38;5;124mf\u001b[39m\u001b[38;5;124m\"\u001b[39m\u001b[38;5;132;01m{\u001b[39;00mstarting_number\u001b[38;5;132;01m}\u001b[39;00m\u001b[38;5;124m + \u001b[39m\u001b[38;5;132;01m{\u001b[39;00mi\u001b[38;5;132;01m}\u001b[39;00m\u001b[38;5;124m = \u001b[39m\u001b[38;5;132;01m{\u001b[39;00mresult\u001b[38;5;132;01m}\u001b[39;00m\u001b[38;5;124m\"\u001b[39m)\n\u001b[0;32m----> 7\u001b[0m sleep(\u001b[38;5;241m0.5\u001b[39m)\n",
      "\u001b[0;31mKeyboardInterrupt\u001b[0m: "
     ]
    }
   ],
   "source": [
    "starting_number = 10\n",
    "limit = 120\n",
    "\n",
    "for i in range(1,limit-starting_number+1):\n",
    "    result = starting_number + i\n",
    "    print(f\"{starting_number} + {i} = {result}\")\n",
    "    sleep(0.5)"
   ]
  },
  {
   "cell_type": "markdown",
   "metadata": {},
   "source": [
    "## Subtract Down to Limit"
   ]
  },
  {
   "cell_type": "code",
   "execution_count": 74,
   "metadata": {},
   "outputs": [
    {
     "name": "stdout",
     "output_type": "stream",
     "text": [
      "120 - 1 = 119\n",
      "120 - 2 = 118\n",
      "120 - 3 = 117\n",
      "120 - 4 = 116\n",
      "120 - 5 = 115\n",
      "120 - 6 = 114\n",
      "120 - 7 = 113\n",
      "120 - 8 = 112\n",
      "120 - 9 = 111\n",
      "120 - 10 = 110\n"
     ]
    }
   ],
   "source": [
    "starting_number = 120\n",
    "limit = 110\n",
    "\n",
    "for i in range(1,starting_number-limit+1):\n",
    "    result = starting_number - i\n",
    "    print(f\"{starting_number} - {i} = {result}\")\n",
    "    sleep(0.5)"
   ]
  },
  {
   "cell_type": "markdown",
   "metadata": {},
   "source": [
    "## Multiply Up to Limit"
   ]
  },
  {
   "cell_type": "code",
   "execution_count": 79,
   "metadata": {},
   "outputs": [
    {
     "name": "stdout",
     "output_type": "stream",
     "text": [
      "10 x 1 = 10\n",
      "10 x 2 = 20\n",
      "10 x 3 = 30\n",
      "10 x 4 = 40\n",
      "10 x 5 = 50\n",
      "10 x 6 = 60\n",
      "10 x 7 = 70\n",
      "10 x 8 = 80\n",
      "10 x 9 = 90\n",
      "10 x 10 = 100\n",
      "10 x 11 = 110\n",
      "10 x 12 = 120\n"
     ]
    }
   ],
   "source": [
    "number_to_multiply = 10\n",
    "limit = 120\n",
    "\n",
    "for (i, r) in operate_to_limit(number_to_multiply, limit, Operation.MULTIPLICATION):\n",
    "    print(f\"{number_to_multiply} x {i} = {r}\")\n",
    "    sleep(0.5)"
   ]
  },
  {
   "cell_type": "markdown",
   "metadata": {},
   "source": [
    "## Multiply a Number of Times"
   ]
  },
  {
   "cell_type": "code",
   "execution_count": 80,
   "metadata": {},
   "outputs": [
    {
     "name": "stdout",
     "output_type": "stream",
     "text": [
      "2 x 1 = 2\n",
      "2 x 2 = 4\n",
      "2 x 3 = 6\n",
      "2 x 4 = 8\n",
      "2 x 5 = 10\n",
      "2 x 6 = 12\n",
      "2 x 7 = 14\n",
      "2 x 8 = 16\n",
      "2 x 9 = 18\n",
      "2 x 10 = 20\n"
     ]
    }
   ],
   "source": [
    "number_to_multiply = 2\n",
    "count = 10\n",
    "\n",
    "for i in range(1,count+1):\n",
    "    r = number_to_multiply * i\n",
    "    print(f\"{number_to_multiply} x {i} = {r}\")\n",
    "    sleep(0.5)"
   ]
  },
  {
   "cell_type": "markdown",
   "metadata": {},
   "source": [
    "## Divide Down to Limit"
   ]
  },
  {
   "cell_type": "code",
   "execution_count": 81,
   "metadata": {},
   "outputs": [
    {
     "name": "stdout",
     "output_type": "stream",
     "text": [
      "100 ÷ 1 = 100.0\n",
      "100 ÷ 2 = 50.0\n",
      "100 ÷ 3 = 33.333333333333336\n",
      "100 ÷ 4 = 25.0\n",
      "100 ÷ 5 = 20.0\n",
      "100 ÷ 6 = 16.666666666666668\n",
      "100 ÷ 7 = 14.285714285714286\n"
     ]
    },
    {
     "ename": "KeyboardInterrupt",
     "evalue": "",
     "output_type": "error",
     "traceback": [
      "\u001b[0;31m---------------------------------------------------------------------------\u001b[0m",
      "\u001b[0;31mKeyboardInterrupt\u001b[0m                         Traceback (most recent call last)",
      "Cell \u001b[0;32mIn[81], line 6\u001b[0m\n\u001b[1;32m      4\u001b[0m \u001b[38;5;28;01mfor\u001b[39;00m (i, r) \u001b[38;5;129;01min\u001b[39;00m operate_to_limit(number_to_divide, limit, Operation\u001b[38;5;241m.\u001b[39mDIVISION):\n\u001b[1;32m      5\u001b[0m     \u001b[38;5;28mprint\u001b[39m(\u001b[38;5;124mf\u001b[39m\u001b[38;5;124m\"\u001b[39m\u001b[38;5;132;01m{\u001b[39;00mnumber_to_divide\u001b[38;5;132;01m}\u001b[39;00m\u001b[38;5;124m ÷ \u001b[39m\u001b[38;5;132;01m{\u001b[39;00mi\u001b[38;5;132;01m}\u001b[39;00m\u001b[38;5;124m = \u001b[39m\u001b[38;5;132;01m{\u001b[39;00mr\u001b[38;5;132;01m}\u001b[39;00m\u001b[38;5;124m\"\u001b[39m)\n\u001b[0;32m----> 6\u001b[0m     \u001b[43msleep\u001b[49m\u001b[43m(\u001b[49m\u001b[38;5;241;43m0.5\u001b[39;49m\u001b[43m)\u001b[49m\n",
      "\u001b[0;31mKeyboardInterrupt\u001b[0m: "
     ]
    }
   ],
   "source": [
    "number_to_divide = 100\n",
    "limit = 10\n",
    "\n",
    "for (i, r) in operate_to_limit(number_to_divide, limit, Operation.DIVISION):\n",
    "    print(f\"{number_to_divide} ÷ {i} = {r}\")\n",
    "    sleep(0.5)"
   ]
  },
  {
   "cell_type": "markdown",
   "metadata": {},
   "source": [
    "## Divide a Number of Times"
   ]
  },
  {
   "cell_type": "code",
   "execution_count": 82,
   "metadata": {},
   "outputs": [
    {
     "name": "stdout",
     "output_type": "stream",
     "text": [
      "20 ÷ 1 = 20.0\n",
      "20 ÷ 2 = 10.0\n",
      "20 ÷ 3 = 6.666666666666667\n",
      "20 ÷ 4 = 5.0\n",
      "20 ÷ 5 = 4.0\n",
      "20 ÷ 6 = 3.3333333333333335\n"
     ]
    },
    {
     "ename": "KeyboardInterrupt",
     "evalue": "",
     "output_type": "error",
     "traceback": [
      "\u001b[0;31m---------------------------------------------------------------------------\u001b[0m",
      "\u001b[0;31mKeyboardInterrupt\u001b[0m                         Traceback (most recent call last)",
      "Cell \u001b[0;32mIn[82], line 7\u001b[0m\n\u001b[1;32m      5\u001b[0m r \u001b[38;5;241m=\u001b[39m number_to_divide \u001b[38;5;241m/\u001b[39m i\n\u001b[1;32m      6\u001b[0m \u001b[38;5;28mprint\u001b[39m(\u001b[38;5;124mf\u001b[39m\u001b[38;5;124m\"\u001b[39m\u001b[38;5;132;01m{\u001b[39;00mnumber_to_divide\u001b[38;5;132;01m}\u001b[39;00m\u001b[38;5;124m ÷ \u001b[39m\u001b[38;5;132;01m{\u001b[39;00mi\u001b[38;5;132;01m}\u001b[39;00m\u001b[38;5;124m = \u001b[39m\u001b[38;5;132;01m{\u001b[39;00mr\u001b[38;5;132;01m}\u001b[39;00m\u001b[38;5;124m\"\u001b[39m)\n\u001b[0;32m----> 7\u001b[0m \u001b[43msleep\u001b[49m\u001b[43m(\u001b[49m\u001b[38;5;241;43m0.5\u001b[39;49m\u001b[43m)\u001b[49m\n",
      "\u001b[0;31mKeyboardInterrupt\u001b[0m: "
     ]
    }
   ],
   "source": [
    "number_to_divide = 20\n",
    "count = 20\n",
    "\n",
    "for i in range(1,count+1):\n",
    "    r = number_to_divide / i\n",
    "    print(f\"{number_to_divide} ÷ {i} = {r}\")\n",
    "    sleep(0.5)"
   ]
  }
 ],
 "metadata": {
  "kernelspec": {
   "display_name": "kids-scratch",
   "language": "python",
   "name": "python3"
  },
  "language_info": {
   "codemirror_mode": {
    "name": "ipython",
    "version": 3
   },
   "file_extension": ".py",
   "mimetype": "text/x-python",
   "name": "python",
   "nbconvert_exporter": "python",
   "pygments_lexer": "ipython3",
   "version": "3.11.7"
  }
 },
 "nbformat": 4,
 "nbformat_minor": 2
}
